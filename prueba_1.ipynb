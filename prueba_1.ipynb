{
  "nbformat": 4,
  "nbformat_minor": 0,
  "metadata": {
    "colab": {
      "provenance": [],
      "include_colab_link": true
    },
    "kernelspec": {
      "name": "python3",
      "display_name": "Python 3"
    },
    "language_info": {
      "name": "python"
    }
  },
  "cells": [
    {
      "cell_type": "markdown",
      "metadata": {
        "id": "view-in-github",
        "colab_type": "text"
      },
      "source": [
        "<a href=\"https://colab.research.google.com/github/JuandaJimenezGuerra/fundamentos-de-programacion/blob/main/prueba_1.ipynb\" target=\"_parent\"><img src=\"https://colab.research.google.com/assets/colab-badge.svg\" alt=\"Open In Colab\"/></a>"
      ]
    },
    {
      "cell_type": "markdown",
      "source": [
        "## **Ejercicio 1** (50 pts)\n",
        "\n",
        "Escriba una clase `Pedido` que pueda ser usada para gestionar la información de los pedidos realizados a una pastelería (o carnicería o tienda de ropa o empresa que ud desee). Evite usar módulos como numpy, pandas o cualquier otro.\n",
        "\n",
        "### **Rubrica**:\n",
        "\n",
        "1. Generación de la clase que funcione correctamente con al menos 2 métodos y 2 atributos. **30 pts**.\n",
        "2. Comentarios y  documentación que sirva para quien deba usar la clase. **5 pts**.\n",
        "3. Pertinencia de la clase en el ámbito, ¿Por qué será útil esta herramienta y cómo ayudará a mejorar el negocio? esta será entregada en una celda de texto. **10 pts**.\n",
        "4. ¿Cree que se pueda construir una clase hija que ayude al proceso? Si sí constrúyala, sino, argumente por qué en una célda de código. **5 pts**."
      ],
      "metadata": {
        "id": "AsR72ouVMJa-"
      }
    },
    {
      "cell_type": "code",
      "source": [
        "#clase generica de un pedido\n",
        "\n",
        "class Pedido():\n",
        "  compras = []\n",
        "  def __init__(self, id_cliente: int, id_factura: int, descuento: float):\n",
        "    \"\"\"\n",
        "      Inicializa un nuevo pedido con los detalles especificados.\n",
        "\n",
        "      Atributos de la clase:\n",
        "      - id_cliente (int): El identificador del cliente.\n",
        "      - id_factura (int): El número de la factura asociada al pedido.\n",
        "      - descuento (float): El porcentaje de descuento aplicable al pedido.\n",
        "      - articulos (dict): Un diccionario que almacena los artículos disponibles para compra, donde cada artículo es identificado por un ID único.\n",
        "    \"\"\"\n",
        "\n",
        "    self.info = {\n",
        "        \"Cliente\": id_cliente,\n",
        "        \"Número de Factura\": id_factura,\n",
        "        \"% Descuento\": descuento\n",
        "        }\n",
        "    self.articulos = {\n",
        "    1:{\n",
        "        \"id\":1,\n",
        "        \"nombre\": \"camiseta\",\n",
        "        \"precio\": 25000,\n",
        "        \"cantidad_disponible\": 100\n",
        "    },\n",
        "    2:{\n",
        "        \"id\":2,\n",
        "        \"nombre\": \"pantalon\",\n",
        "        \"precio\": 50000,\n",
        "        \"cantidad_disponible\": 80\n",
        "    },\n",
        "    3:{\n",
        "        \"id\":3,\n",
        "        \"nombre\": \"saco\",\n",
        "        \"precio\": 75000,\n",
        "        \"cantidad_disponible\": 120\n",
        "    },\n",
        "    }\n",
        "\n",
        "  #Método que permite listar los articulos disponibles en la tienda\n",
        "\n",
        "  def listar_articulos(self):\n",
        "    \"\"\"\n",
        "      Imprime una lista de los artículos y cantidades disponibles en la tienda.\n",
        "      Esta función recorre todos los artículos almacenados en el diccionario \"articulos\" y los imprime.\n",
        "      Cada artículo se muestra con su ID, nombre, precio y cantidad disponible.\n",
        "\n",
        "      Ejemplo de salida:\n",
        "        {'id': 1, 'nombre': 'camiseta', 'precio': 25000, 'cantidad_disponible': 100}\n",
        "    \"\"\"\n",
        "    for id in self.articulos:\n",
        "      print(self.articulos[id])\n",
        "\n",
        "\n",
        "  #Método que le permite al empleado de la tienda agregar artículos al pedido de un cliente\n",
        "\n",
        "  def agregar_articulo(self, id_articulo: int, cantidad: int):\n",
        "    \"\"\"\n",
        "      Esta función permite añadir un nuevo artículo a la lista de compras de un cliente,\n",
        "      actualizando la cantidad disponible del artículo.\n",
        "      Cada artículo agregado se registra mediante su ID y la cantidad deseada.\n",
        "\n",
        "      Parámetros:\n",
        "      - id_articulo (int): El identificador único del artículo a agregar.\n",
        "      - cantidad (int): La cantidad del artículo que se desea agregar al pedido.\n",
        "   \"\"\"\n",
        "    if id_articulo not in self.articulos:\n",
        "      print(\"Artículo no encontrado. Por favor, ingrese un ID de artículo válido.\")\n",
        "      return\n",
        "    if cantidad > self.articulos[id_articulo][\"cantidad_disponible\"]:\n",
        "      print(\"Cantidad no disponible. Por favor, ingrese una cantidad válida.\")\n",
        "    else:\n",
        "      self.compras.append((id_articulo, cantidad))\n",
        "\n",
        "      # Actualiza la cantidad disponible del artículo.\n",
        "      self.articulos[id_articulo][\"cantidad_disponible\"]-= cantidad\n",
        "\n",
        "\n",
        "\n",
        "  #Método que calcula el total del pedido del cliente\n",
        "\n",
        "  def calcular_total_pedido(self):\n",
        "    \"\"\"\n",
        "      Esta función recorre la lista de compras del pedido, identifica cada artículo por su ID y utiliza su precio\n",
        "      (obtenido del diccionario de artículos) para calcular el total del pedido.\n",
        "\n",
        "      Retorna:\n",
        "      - float: El total del pedido calculado a partir de los precios de los artículos y sus cantidades.\n",
        "    \"\"\"\n",
        "    suma = 0\n",
        "    for (id_articulo,cantidad) in self.compras:\n",
        "      articulo = self.articulos[id_articulo]\n",
        "      precio = articulo[\"precio\"]\n",
        "      suma += cantidad * precio\n",
        "    return suma\n",
        "\n",
        "\n",
        "\n",
        "  #Método que imprime el resumen del pedido\n",
        "\n",
        "  def resumen_compra(self):\n",
        "    \"\"\"\n",
        "      Imprime un resumen de la compra, incluyendo el total antes y después de aplicar descuentos.\n",
        "      El descuento se aplica sobre el total del pedido y el nuevo total se calcula descontando el porcentaje especificado en \"info[\"% Descuento\"]\".\n",
        "\n",
        "      Este método no retorna ningún valor, su propósito es únicamente informativo, imprimiendo el resumen en consola.\n",
        "    \"\"\"\n",
        "\n",
        "    total_pedido = self.calcular_total_pedido()\n",
        "    print(f\"\"\"\n",
        "    ***** Resumen de la compra *****\n",
        "    Id Cliente:                 {self.info[\"Cliente\"]}\n",
        "    Factura Número:             {self.info[\"Número de Factura\"]}\n",
        "    Total antes de descuentos: ${total_pedido}\n",
        "    Total con descuentos:      ${total_pedido*(1-self.info[\"% Descuento\"])}\n",
        "    \"\"\")\n",
        "\n",
        "\n",
        "#Clase hija de Pedido, que representa un pedido destinado a envío:\n",
        "#Se construye esta clase hija para gestionar pedidos que requieren entrega a domicilio,facilitando agregar detalles del envío.\n",
        "\n",
        "class Pedido_para_enviar(Pedido):\n",
        "  def __init__(self, id_cliente: int, id_factura: int, descuento: float, direccion: str, telefono: str):\n",
        "    \"\"\"\n",
        "      Esta clase añade atributos específicos para manejar la información necesaria para\n",
        "      realizar el envío del pedido, como la dirección y el teléfono del cliente.\n",
        "\n",
        "      Atributos añadidos:\n",
        "        - direccion (str): Dirección de envío del pedido.\n",
        "        - telefono (str): Número de teléfono de contacto del cliente.\n",
        "      \"\"\"\n",
        "    Pedido.__init__(self, id_cliente, id_factura, descuento)\n",
        "    self.info['Dirección'] = direccion\n",
        "    self.info['Teléfono'] = telefono\n"
      ],
      "metadata": {
        "id": "CT4oH6mQEo-s"
      },
      "execution_count": null,
      "outputs": []
    },
    {
      "cell_type": "code",
      "source": [
        "#Prueba funcionamiento clase Pedido:\n",
        "pedido1 = Pedido(id_cliente=34, id_factura=1, descuento=0.1)\n",
        "pedido1.listar_articulos()\n",
        "pedido1.agregar_articulo(1,4)\n",
        "pedido1.agregar_articulo(3,1)\n",
        "pedido1.calcular_total_pedido()\n",
        "pedido1.resumen_compra()"
      ],
      "metadata": {
        "id": "Q6SzNOPyYaRz"
      },
      "execution_count": null,
      "outputs": []
    },
    {
      "cell_type": "code",
      "source": [
        "#Prueba funcionamiento clase Pedido_para_enviar:\n",
        "pedido2 = Pedido_para_enviar(id_cliente=34, id_factura=1, descuento=0.1, direccion= \"xx\", telefono=\"yy\")\n",
        "pedido2.info"
      ],
      "metadata": {
        "id": "7-mansLgmNhu"
      },
      "execution_count": null,
      "outputs": []
    },
    {
      "cell_type": "markdown",
      "source": [
        "**3. Pertinencia de la clase en el ámbito, ¿Por qué será útil esta herramienta y cómo ayudará a mejorar el negocio?:**\n",
        "La clase ***'Pedido'***, le permitirá a las personas encargadas en la tienda de ropas gestionar adecuadamente los pedidos de sus clientes. La herramienta automatiza varios procesos asociados con la venta de artículos, le permitirá a los empleados revisar el inventario disponible, ingresar al sistema las cantidades vendidas por artículo y calcular el total que debe ser cobrado al cliente. En caso de existir algún descuento podrá ser ingresado al sistema y el valor total con descuento será visible para el empleado en el resumen de la compra.\n",
        "\n",
        "Esto agiliza el proceso de pedidos en la tienda, permitiéndo a los empleados acelerar el proceso y enfocarse en tareas más importantes o que generen valor.\n",
        "\n",
        "Además, para pedidos a domicilio, la plataforma captura automáticamente la dirección y teléfono del cliente, garantizando que el equipo de envíos disponga de toda la información necesaria para la entrega."
      ],
      "metadata": {
        "id": "B1Tg_YGHxGaE"
      }
    },
    {
      "cell_type": "markdown",
      "source": [
        "## **Ejercicio 2** (50 pts)\n",
        "\n",
        "Realice los siguientes ejercicios con numpy\n",
        "\n",
        "1. Resolver el siguiente sistema de ecuaciones. **16 pts**\n",
        "\n",
        "$$\n",
        "2x + 3y - z + 4w + 5v = 15\n",
        "$$\n",
        "\n",
        "$$\n",
        "x - 2y + 4z - 3w + v = 6\n",
        "$$\n",
        "\n",
        "$$\n",
        "3x + 2y - 3z + 5w - 2v = 11\n",
        "$$\n",
        "\n",
        "$$\n",
        "4x + y - 2z + 3w + 2v = 8\n",
        "$$\n",
        "\n",
        "$$\n",
        "x + y + z + w + v = 7\n",
        "$$\n",
        "\n",
        "2. Calcule el valor del número de Euler o constante de Napier $e = 2,71828$ como:\n",
        "\n",
        "$$e = \\sum_i ^{\\infty} \\frac{1}{n!}$$\n",
        "\n",
        "  ¿Qué precisión en términos de el número de términos necesita para dar cuenta de los primeros 5 números de la coma decimal? **18 pts**\n",
        "\n",
        "3. Ecuentre los auto valores de la matriz.  **16 pts**\n",
        "\n",
        "$$\n",
        "\\begin{pmatrix}\n",
        "2 & 1 & 1 \\\\\n",
        "4 & 3 & 2 \\\\\n",
        "1 & 1 & 2 \\\\\n",
        "\\end{pmatrix}\n",
        "$$\n"
      ],
      "metadata": {
        "id": "Ttr_cL0cMMNJ"
      }
    },
    {
      "cell_type": "markdown",
      "source": [
        "**SOLUCION 2.1**"
      ],
      "metadata": {
        "id": "L5b7oIG_kxbd"
      }
    },
    {
      "cell_type": "code",
      "source": [
        "\"\"\"\n",
        "Este calculo resuelve un sistema de ecuaciones lineales representado por una matriz y un vector. Luego, imprime los valores de\n",
        "las incógnitas y verifica que estos valores satisfagan las ecuaciones originales.\n",
        "\"\"\"\n",
        "\n",
        "#Primero que todo importamos la librería que vamos a necesitar\n",
        "import numpy as np\n",
        "\n",
        "#Llevamos a una matriz los coeficientes que se encuentran en el sistema de ecuaciones y creamos un vector con los resultados del sistema de ecuaciones\n",
        "matriz = np.array([[2, 3, -1, 4, 5],[1, -2, 4, -3, 1],[3, 2, -3, 5, -2],[4, 1, -2, 3, 2],[1, 1, 1, 1, 1]])\n",
        "vector = np.array([15,6,11,8,7])\n",
        "\n",
        "#Guardamos dentro de una nueva variable el resultado del sistema de ecuaciones\n",
        "res = np.linalg.solve(matriz, vector)\n",
        "\n",
        "#Guardamos dentro de cada variable el valor obtenido en el sistema de ecuaciones\n",
        "x = res[0]\n",
        "y = res[1]\n",
        "z = res[2]\n",
        "w = res[3]\n",
        "v = res[4]\n",
        "\n",
        "#Exponemos el valor de las varibales incognitas\n",
        "print()\n",
        "print(\"A continuación se muestra el valor de cada variable: \\n\")\n",
        "print(f'La variable X es: {x} \\nLa variable Y es: {y} \\nLa variable Z es: {z} \\nLa variable W es: {w} \\nLa variable V es: {v}')\n",
        "\n",
        "#Comprobamos que el sistema de ecuaciones cumpla con las condiciones:\n",
        "ec1 = (2*x) + (3*y) - z + (4*w) + (5*v)\n",
        "ec2 = x - (2*y) + (4*z) - (3*w) + v\n",
        "ec3 = (3*x) + (2*y) - (3*z) + (5*w) - (2*v)\n",
        "ec4 = (4*x) + y - (2*z) + (3*w) + (2*v)\n",
        "ec5 = x + y + z + w + v\n",
        "\n",
        "print(\"\\nFinalmente, se verifica que las ecuaciones cumplan los criterios\\n\")\n",
        "print(\"El valor de ec1 es: \", ec1)\n",
        "print(\"El valor de ec2 es: \", ec2)\n",
        "print(\"El valor de ec3 es: \", ec3)\n",
        "print(\"El valor de ec4 es: \", ec4)\n",
        "print(\"El valor de ec5 es: \", ec5)"
      ],
      "metadata": {
        "colab": {
          "base_uri": "https://localhost:8080/"
        },
        "id": "Gmz2_xEIM2Rl",
        "outputId": "2748c507-3ec5-4482-fbc2-23b78a6ce42e"
      },
      "execution_count": null,
      "outputs": [
        {
          "output_type": "stream",
          "name": "stdout",
          "text": [
            "\n",
            "A continuación se muestra el valor de cada variable: \n",
            "\n",
            "La variable X es: -1.6774193548387097 \n",
            "La variable Y es: -7.870967741935485 \n",
            "La variable Z es: 5.129032258064516 \n",
            "La variable W es: 10.0 \n",
            "La variable V es: 1.4193548387096777\n",
            "\n",
            "Finalmente, se verifica que las ecuaciones cumplan los criterios\n",
            "\n",
            "El valor de ec1 es:  14.999999999999996\n",
            "El valor de ec2 es:  5.999999999999998\n",
            "El valor de ec3 es:  10.999999999999996\n",
            "El valor de ec4 es:  8.0\n",
            "El valor de ec5 es:  7.0\n"
          ]
        }
      ]
    },
    {
      "cell_type": "markdown",
      "source": [
        "**SOLUCION 2.2**"
      ],
      "metadata": {
        "id": "WxjwidHLZO8h"
      }
    },
    {
      "cell_type": "code",
      "source": [
        "import numpy as np\n",
        "import math\n",
        "\n",
        "def calcular_euler(iteraciones=100):\n",
        "    \"\"\"\n",
        "    Esta función calcula un aproximado del valor de Euler a través de una sumatoria de su fórmula base.\n",
        "    Se le debe pasar como variable el número de iteraciones que se desean realizar, teniendo en cuenta\n",
        "    también que dentro de su estructura hay un número factorial.\n",
        "\n",
        "    Inicialmente se crea un array desde 0 hasta el límite de iteraciones deseado. Luego se calcula el factorial\n",
        "    utilizando una función de la libreria -math-, los cuales cumpliran la función de divisor dentro de la sumatoria.\n",
        "\n",
        "    Finalmente se realiza una sumatoria de todos los elementos guardados dentro del array conformado por la división\n",
        "    de 1 entre los factoriales calculados.\n",
        "    \"\"\"\n",
        "    # Crear un array con los valores de 0 a iteraciones-1\n",
        "    n_values = np.arange(iteraciones)\n",
        "\n",
        "    # Calcular los factoriales de los valores en n_values utilizando np.math.factorial\n",
        "    factoriales = np.array([math.factorial(n) for n in n_values])\n",
        "\n",
        "    # Calcular la serie de Euler\n",
        "    euler_series = 1 / factoriales\n",
        "\n",
        "    # Sumar los elementos de la serie para obtener el número de Euler\n",
        "    euler_aproximado = np.sum(euler_series)\n",
        "\n",
        "    return euler_aproximado\n",
        "\n",
        "# Especificar el número de iteraciones para mayor precisión\n",
        "numero_de_euler = calcular_euler(iteraciones=1000)\n",
        "print(f\"Número de Euler aproximado: {numero_de_euler}\")"
      ],
      "metadata": {
        "id": "zEAZi_Y0-19x",
        "outputId": "039521aa-8a3c-4690-8e1a-a6586810e18d",
        "colab": {
          "base_uri": "https://localhost:8080/"
        }
      },
      "execution_count": null,
      "outputs": [
        {
          "output_type": "stream",
          "name": "stdout",
          "text": [
            "Número de Euler aproximado: 2.7182818284590455\n"
          ]
        }
      ]
    },
    {
      "cell_type": "markdown",
      "source": [
        "**SOLUCION 2.3**"
      ],
      "metadata": {
        "id": "6IxKSJLygcM2"
      }
    },
    {
      "cell_type": "code",
      "source": [
        "\"\"\"\n",
        "    Este calculo determina los autovalores de la matriz solicitada.\n",
        "    Se expresa la matriz en un arreglo de NumPy. Finalmente, se utiliza la función np.linalg.eigvals() para calcular los\n",
        "    autovalores de la matriz, que se imprimen en pantalla.\n",
        "\n",
        "    Los autovalores representan las soluciones λ de la ecuación característica det(A - λI) = 0, donde A es la matriz, λ\n",
        "    es el autovalor y I es la matriz identidad. Los autovectores de una matriz son vectores no nulos que, al ser\n",
        "    multiplicados por la matriz, dan como resultado un múltiplo escalar de sí mismos, es decir, mantienen la misma dirección.\n",
        "\"\"\"\n",
        "\n",
        "# Primero que todo importamos la librería que vamos a necesitar\n",
        "import numpy as np\n",
        "\n",
        "#Llevamos la matriz a un arreglo de numpy\n",
        "matriz = np.array([[2, 1, 1], [4, 3, 2], [1, 1, 2]])\n",
        "\n",
        "\n",
        "# Calcular los autovalores y autovectores\n",
        "autovalores, autovectores = np.linalg.eig(matriz)\n",
        "\n",
        "#Imprimimos los resultados\n",
        "print(\"Los autovalores de la matriz son:\\n\", autovalores)\n",
        "print(\"\\nLos autovalores de la matriz son:\\n\", autovectores)"
      ],
      "metadata": {
        "colab": {
          "base_uri": "https://localhost:8080/"
        },
        "id": "wzZbanQMgX-5",
        "outputId": "74c3f2a6-1b85-41a9-d2b8-cc370d30424e"
      },
      "execution_count": null,
      "outputs": [
        {
          "output_type": "stream",
          "name": "stdout",
          "text": [
            "Los autovalores de la matriz son:\n",
            " [5.44948974 0.55051026 1.        ]\n",
            "\n",
            "Los autovalores de la matriz son:\n",
            " [[ 3.53553391e-01  3.53553391e-01  6.66133815e-16]\n",
            " [ 8.66025404e-01 -8.66025404e-01 -7.07106781e-01]\n",
            " [ 3.53553391e-01  3.53553391e-01  7.07106781e-01]]\n"
          ]
        }
      ]
    },
    {
      "cell_type": "markdown",
      "source": [
        "Borrar"
      ],
      "metadata": {
        "id": "SOzRpVohvy2H"
      }
    },
    {
      "cell_type": "code",
      "source": [
        "import sympy as sp\n",
        "from decimal import Decimal, getcontext\n",
        "matriz_dos = sp.Matrix([[2, 1, 1], [4, 3, 2], [1, 1, 2]])\n",
        "lamb_dos=sp.symbols('lambda')\n",
        "sol=sp.solve(sp.det((matriz_dos-lamb_dos*sp.eye(3))))\n",
        "print(sol)"
      ],
      "metadata": {
        "colab": {
          "base_uri": "https://localhost:8080/"
        },
        "id": "7BCytru5rIZT",
        "outputId": "c79a2c1b-9cfc-4a19-c2f0-7b891bafa420"
      },
      "execution_count": null,
      "outputs": [
        {
          "output_type": "stream",
          "name": "stdout",
          "text": [
            "[1, 3 - sqrt(6), sqrt(6) + 3]\n"
          ]
        }
      ]
    }
  ]
}